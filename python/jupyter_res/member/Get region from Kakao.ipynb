{
 "cells": [
  {
   "cell_type": "code",
   "execution_count": 1,
   "id": "3e42ad3f",
   "metadata": {},
   "outputs": [],
   "source": [
    "from flask import Flask, url_for, request, jsonify\n",
    "from flask_cors import CORS, cross_origin\n",
    "\n",
    "import json\n",
    "import requests"
   ]
  },
  {
   "cell_type": "code",
   "execution_count": 2,
   "id": "8a2acbe7",
   "metadata": {},
   "outputs": [],
   "source": [
    "KAKAO_TOKEN_SAVED_FILE = \"../../kakao/kakao_token.json\"\n",
    "\n",
    "def load_tokens(filename):\n",
    "    with open(filename) as fp:\n",
    "        tokens = json.load(fp)\n",
    "        \n",
    "    return tokens"
   ]
  },
  {
   "cell_type": "code",
   "execution_count": null,
   "id": "eebb227d",
   "metadata": {},
   "outputs": [
    {
     "name": "stdout",
     "output_type": "stream",
     "text": [
      " * Serving Flask app \"__main__\" (lazy loading)\n",
      " * Environment: production\n",
      "\u001b[31m   WARNING: This is a development server. Do not use it in a production deployment.\u001b[0m\n",
      "\u001b[2m   Use a production WSGI server instead.\u001b[0m\n",
      " * Debug mode: off\n"
     ]
    },
    {
     "name": "stderr",
     "output_type": "stream",
     "text": [
      " * Running on http://127.0.0.1:5000/ (Press CTRL+C to quit)\n",
     ]
    }
   ],
   "source": [
    "app = Flask(__name__)\n",
    "CORS(app)\n",
    "\n",
    "@app.route('/address-region', methods=['POST'])\n",
    "def address_region():\n",
    "    params = json.loads(request.get_data())\n",
    "    \n",
    "    if len(params) == 0:\n",
    "        return jsonify(\"No Parameter!\")\n",
    "    else:\n",
    "        x = params['x']\n",
    "        y = params['y']\n",
    "\n",
    "        tokens = load_tokens(KAKAO_TOKEN_SAVED_FILE)\n",
    "        \n",
    "        #print(tokens)\n",
    "\n",
    "        url = \"https://dapi.kakao.com/v2/local/geo/coord2regioncode.json\"\n",
    "\n",
    "        headers = {\n",
    "            'Authorization': 'KakaoAK {}'.format('1f6ab7138670a91099012c0341d8fe60'),\n",
    "        }\n",
    "\n",
    "        data = {\n",
    "            \"x\": x,\n",
    "            \"y\": y\n",
    "        }\n",
    "\n",
    "        response = requests.get(url, headers=headers, params=data)\n",
    "\n",
    "        if response.status_code != 200:\n",
    "            print(response.status_code)\n",
    "            \n",
    "        address = response.json()\n",
    "        \n",
    "        #print(address)\n",
    "                \n",
    "        #print(address['documents'][1]['region_3depth_name'])\n",
    "        region = address['documents'][1]['region_3depth_name']\n",
    "        \n",
    "        return region\n",
    "\n",
    "\n",
    "if __name__ == \"__main__\":\n",
    "    app.run()\n",
    "\n"
   ]
  },
  {
   "cell_type": "code",
   "execution_count": null,
   "id": "8e25bec1",
   "metadata": {},
   "outputs": [],
   "source": []
  }
 ],
 "metadata": {
  "kernelspec": {
   "display_name": "Python 3 (ipykernel)",
   "language": "python",
   "name": "python3"
  },
  "language_info": {
   "codemirror_mode": {
    "name": "ipython",
    "version": 3
   },
   "file_extension": ".py",
   "mimetype": "text/x-python",
   "name": "python",
   "nbconvert_exporter": "python",
   "pygments_lexer": "ipython3",
   "version": "3.9.12"
  }
 },
 "nbformat": 4,
 "nbformat_minor": 5
}
