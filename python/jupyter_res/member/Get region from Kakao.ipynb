{
 "cells": [
  {
   "cell_type": "code",
   "execution_count": 1,
   "id": "3e42ad3f",
   "metadata": {},
   "outputs": [],
   "source": [
    "from flask import Flask, url_for, request, jsonify\n",
    "from flask_cors import CORS, cross_origin\n",
    "\n",
    "import json\n",
    "import requests"
   ]
  },
  {
   "cell_type": "code",
   "execution_count": 2,
   "id": "8a2acbe7",
   "metadata": {},
   "outputs": [],
   "source": [
    "KAKAO_TOKEN_SAVED_FILE = \"../../kakao/kakao_token.json\"\n",
    "\n",
    "def load_tokens(filename):\n",
    "    with open(filename) as fp:\n",
    "        tokens = json.load(fp)\n",
    "        \n",
    "    return tokens"
   ]
  },
  {
   "cell_type": "code",
   "execution_count": null,
   "id": "eebb227d",
   "metadata": {},
   "outputs": [
    {
     "name": "stdout",
     "output_type": "stream",
     "text": [
      " * Serving Flask app \"__main__\" (lazy loading)\n",
      " * Environment: production\n",
      "\u001b[31m   WARNING: This is a development server. Do not use it in a production deployment.\u001b[0m\n",
      "\u001b[2m   Use a production WSGI server instead.\u001b[0m\n",
      " * Debug mode: off\n"
     ]
    },
    {
     "name": "stderr",
     "output_type": "stream",
     "text": [
      " * Running on http://127.0.0.1:5000/ (Press CTRL+C to quit)\n",
      "127.0.0.1 - - [29/Jun/2022 17:07:13] \"OPTIONS /address-region HTTP/1.1\" 200 -\n",
      "127.0.0.1 - - [29/Jun/2022 17:07:13] \"OPTIONS /address-region HTTP/1.1\" 200 -\n",
      "127.0.0.1 - - [29/Jun/2022 17:07:13] \"OPTIONS /address-region HTTP/1.1\" 200 -\n",
      "127.0.0.1 - - [29/Jun/2022 17:07:13] \"OPTIONS /address-region HTTP/1.1\" 200 -\n",
      "127.0.0.1 - - [29/Jun/2022 17:07:13] \"OPTIONS /address-region HTTP/1.1\" 200 -\n",
      "127.0.0.1 - - [29/Jun/2022 17:07:13] \"OPTIONS /address-region HTTP/1.1\" 200 -\n"
     ]
    },
    {
     "name": "stdout",
     "output_type": "stream",
     "text": [
      "{'access_token': 'cuqscrvg6vUUixbzhxLRx6TxlOI7bAkXJZdloDW_CinI2gAAAYFtnlkV', 'token_type': 'bearer', 'refresh_token': 'GweII4_f5xl_oq5Qq80omlgEYyQpsqzFN_Fo4bUPCinI2gAAAYFtnlkT', 'expires_in': 21599, 'scope': 'account_email profile_image profile_nickname', 'refresh_token_expires_in': 5183999}\n",
      "{'access_token': 'cuqscrvg6vUUixbzhxLRx6TxlOI7bAkXJZdloDW_CinI2gAAAYFtnlkV', 'token_type': 'bearer', 'refresh_token': 'GweII4_f5xl_oq5Qq80omlgEYyQpsqzFN_Fo4bUPCinI2gAAAYFtnlkT', 'expires_in': 21599, 'scope': 'account_email profile_image profile_nickname', 'refresh_token_expires_in': 5183999}{'access_token': 'cuqscrvg6vUUixbzhxLRx6TxlOI7bAkXJZdloDW_CinI2gAAAYFtnlkV', 'token_type': 'bearer', 'refresh_token': 'GweII4_f5xl_oq5Qq80omlgEYyQpsqzFN_Fo4bUPCinI2gAAAYFtnlkT', 'expires_in': 21599, 'scope': 'account_email profile_image profile_nickname', 'refresh_token_expires_in': 5183999}\n",
      "\n",
      "{'access_token': 'cuqscrvg6vUUixbzhxLRx6TxlOI7bAkXJZdloDW_CinI2gAAAYFtnlkV', 'token_type': 'bearer', 'refresh_token': 'GweII4_f5xl_oq5Qq80omlgEYyQpsqzFN_Fo4bUPCinI2gAAAYFtnlkT', 'expires_in': 21599, 'scope': 'account_email profile_image profile_nickname', 'refresh_token_expires_in': 5183999}{'access_token': 'cuqscrvg6vUUixbzhxLRx6TxlOI7bAkXJZdloDW_CinI2gAAAYFtnlkV', 'token_type': 'bearer', 'refresh_token': 'GweII4_f5xl_oq5Qq80omlgEYyQpsqzFN_Fo4bUPCinI2gAAAYFtnlkT', 'expires_in': 21599, 'scope': 'account_email profile_image profile_nickname', 'refresh_token_expires_in': 5183999}\n",
      "\n",
      "{'access_token': 'cuqscrvg6vUUixbzhxLRx6TxlOI7bAkXJZdloDW_CinI2gAAAYFtnlkV', 'token_type': 'bearer', 'refresh_token': 'GweII4_f5xl_oq5Qq80omlgEYyQpsqzFN_Fo4bUPCinI2gAAAYFtnlkT', 'expires_in': 21599, 'scope': 'account_email profile_image profile_nickname', 'refresh_token_expires_in': 5183999}\n"
     ]
    },
    {
     "name": "stderr",
     "output_type": "stream",
     "text": [
      "127.0.0.1 - - [29/Jun/2022 17:07:13] \"POST /address-region HTTP/1.1\" 200 -\n",
      "127.0.0.1 - - [29/Jun/2022 17:07:13] \"POST /address-region HTTP/1.1\" 200 -\n",
      "127.0.0.1 - - [29/Jun/2022 17:07:13] \"POST /address-region HTTP/1.1\" 200 -\n",
      "127.0.0.1 - - [29/Jun/2022 17:07:13] \"POST /address-region HTTP/1.1\" 200 -\n",
      "127.0.0.1 - - [29/Jun/2022 17:07:13] \"POST /address-region HTTP/1.1\" 200 -\n",
      "127.0.0.1 - - [29/Jun/2022 17:07:13] \"POST /address-region HTTP/1.1\" 200 -\n"
     ]
    },
    {
     "name": "stdout",
     "output_type": "stream",
     "text": [
      "성북동성북동성북동\n",
      "\n",
      "성북동성북동\n",
      "성북동\n",
      "\n",
      "\n",
      "{'access_token': 'cuqscrvg6vUUixbzhxLRx6TxlOI7bAkXJZdloDW_CinI2gAAAYFtnlkV', 'token_type': 'bearer', 'refresh_token': 'GweII4_f5xl_oq5Qq80omlgEYyQpsqzFN_Fo4bUPCinI2gAAAYFtnlkT', 'expires_in': 21599, 'scope': 'account_email profile_image profile_nickname', 'refresh_token_expires_in': 5183999}\n"
     ]
    },
    {
     "name": "stderr",
     "output_type": "stream",
     "text": [
      "127.0.0.1 - - [29/Jun/2022 17:07:16] \"POST /address-region HTTP/1.1\" 200 -\n"
     ]
    },
    {
     "name": "stdout",
     "output_type": "stream",
     "text": [
      "성북동\n"
     ]
    },
    {
     "name": "stderr",
     "output_type": "stream",
     "text": [
      "127.0.0.1 - - [29/Jun/2022 17:26:16] \"GET /kafka-data HTTP/1.1\" 404 -\n",
      "127.0.0.1 - - [29/Jun/2022 17:26:37] \"GET /kafka-data HTTP/1.1\" 404 -\n",
      "127.0.0.1 - - [29/Jun/2022 17:26:47] \"GET /kafka-data HTTP/1.1\" 404 -\n",
      "127.0.0.1 - - [29/Jun/2022 17:27:50] \"GET /kafka-data HTTP/1.1\" 404 -\n",
      "127.0.0.1 - - [29/Jun/2022 17:29:12] \"GET /kafka-data HTTP/1.1\" 404 -\n",
      "127.0.0.1 - - [29/Jun/2022 17:29:49] \"GET /kafka-data HTTP/1.1\" 404 -\n",
      "127.0.0.1 - - [29/Jun/2022 17:29:51] \"GET /kafka-data HTTP/1.1\" 404 -\n",
      "127.0.0.1 - - [29/Jun/2022 17:29:52] \"GET /kafka-data HTTP/1.1\" 404 -\n",
      "127.0.0.1 - - [29/Jun/2022 17:29:53] \"GET /kafka-data HTTP/1.1\" 404 -\n",
      "127.0.0.1 - - [29/Jun/2022 17:30:53] \"GET /kafka-data HTTP/1.1\" 404 -\n",
      "127.0.0.1 - - [29/Jun/2022 17:31:33] \"GET /kafka-data HTTP/1.1\" 404 -\n",
      "127.0.0.1 - - [29/Jun/2022 17:31:42] \"GET /kafka-data HTTP/1.1\" 404 -\n",
      "127.0.0.1 - - [29/Jun/2022 17:32:46] \"GET /kafka-data HTTP/1.1\" 404 -\n",
      "127.0.0.1 - - [29/Jun/2022 17:32:48] \"GET /kafka-data HTTP/1.1\" 404 -\n",
      "127.0.0.1 - - [29/Jun/2022 17:33:50] \"GET /kafka-data HTTP/1.1\" 404 -\n",
      "127.0.0.1 - - [29/Jun/2022 17:33:53] \"GET /kafka-data HTTP/1.1\" 404 -\n",
      "127.0.0.1 - - [29/Jun/2022 17:39:47] \"GET /kafka-data HTTP/1.1\" 404 -\n",
      "127.0.0.1 - - [29/Jun/2022 17:40:24] \"GET /kafka-data HTTP/1.1\" 404 -\n",
      "127.0.0.1 - - [29/Jun/2022 17:43:28] \"GET /kafka-data HTTP/1.1\" 404 -\n",
      "127.0.0.1 - - [29/Jun/2022 18:12:59] \"GET /kafka-data HTTP/1.1\" 404 -\n",
      "127.0.0.1 - - [29/Jun/2022 18:14:49] \"GET /kafka-data HTTP/1.1\" 404 -\n",
      "127.0.0.1 - - [29/Jun/2022 18:14:49] \"GET /kafka-data HTTP/1.1\" 404 -\n",
      "127.0.0.1 - - [29/Jun/2022 18:16:54] \"GET /kafka-data HTTP/1.1\" 404 -\n",
      "127.0.0.1 - - [29/Jun/2022 18:17:21] \"GET /kafka-data HTTP/1.1\" 404 -\n",
      "127.0.0.1 - - [29/Jun/2022 18:18:18] \"GET /kafka-data HTTP/1.1\" 404 -\n",
      "127.0.0.1 - - [29/Jun/2022 18:18:54] \"GET /kafka-data HTTP/1.1\" 404 -\n",
      "127.0.0.1 - - [29/Jun/2022 18:18:57] \"GET /kafka-data HTTP/1.1\" 404 -\n",
      "127.0.0.1 - - [29/Jun/2022 18:20:32] \"GET /kafka-data HTTP/1.1\" 404 -\n",
      "127.0.0.1 - - [29/Jun/2022 18:28:17] \"GET /kafka-data HTTP/1.1\" 404 -\n",
      "127.0.0.1 - - [29/Jun/2022 18:30:23] \"GET /kafka-data HTTP/1.1\" 404 -\n",
      "127.0.0.1 - - [29/Jun/2022 18:30:51] \"GET /kafka-data HTTP/1.1\" 404 -\n",
      "127.0.0.1 - - [29/Jun/2022 18:35:00] \"GET /kafka-data HTTP/1.1\" 404 -\n",
      "127.0.0.1 - - [29/Jun/2022 18:35:17] \"GET /kafka-data HTTP/1.1\" 404 -\n",
      "127.0.0.1 - - [29/Jun/2022 18:35:31] \"GET /kafka-data HTTP/1.1\" 404 -\n",
      "127.0.0.1 - - [29/Jun/2022 18:36:48] \"GET /kafka-data HTTP/1.1\" 404 -\n",
      "127.0.0.1 - - [29/Jun/2022 18:38:26] \"GET /kafka-data HTTP/1.1\" 404 -\n"
     ]
    }
   ],
   "source": [
    "app = Flask(__name__)\n",
    "CORS(app)\n",
    "\n",
    "@app.route('/address-region', methods=['POST'])\n",
    "def address_region():\n",
    "    params = json.loads(request.get_data())\n",
    "    \n",
    "    if len(params) == 0:\n",
    "        return jsonify(\"No Parameter!\")\n",
    "    else:\n",
    "        x = params['x']\n",
    "        y = params['y']\n",
    "\n",
    "        tokens = load_tokens(KAKAO_TOKEN_SAVED_FILE)\n",
    "        \n",
    "        print(tokens)\n",
    "\n",
    "        url = \"https://dapi.kakao.com/v2/local/geo/coord2address.json\"\n",
    "\n",
    "        headers = {\n",
    "            'Authorization': 'KakaoAK {}'.format('1f6ab7138670a91099012c0341d8fe60'),\n",
    "        }\n",
    "\n",
    "        data = {\n",
    "            \"x\": x,\n",
    "            \"y\": y\n",
    "        }\n",
    "\n",
    "        response = requests.get(url, headers=headers, params=data)\n",
    "\n",
    "        if response.status_code != 200:\n",
    "            print(response.status_code)\n",
    "            \n",
    "        address = response.json()\n",
    "                \n",
    "        print(address['documents'][0]['address']['region_3depth_name'])\n",
    "        region = address['documents'][0]['address']['region_3depth_name']\n",
    "        \n",
    "        return region\n",
    "\n",
    "\n",
    "if __name__ == \"__main__\":\n",
    "    app.run()\n",
    "\n"
   ]
  },
  {
   "cell_type": "code",
   "execution_count": null,
   "id": "8e25bec1",
   "metadata": {},
   "outputs": [],
   "source": []
  }
 ],
 "metadata": {
  "kernelspec": {
   "display_name": "Python 3 (ipykernel)",
   "language": "python",
   "name": "python3"
  },
  "language_info": {
   "codemirror_mode": {
    "name": "ipython",
    "version": 3
   },
   "file_extension": ".py",
   "mimetype": "text/x-python",
   "name": "python",
   "nbconvert_exporter": "python",
   "pygments_lexer": "ipython3",
   "version": "3.9.12"
  }
 },
 "nbformat": 4,
 "nbformat_minor": 5
}
