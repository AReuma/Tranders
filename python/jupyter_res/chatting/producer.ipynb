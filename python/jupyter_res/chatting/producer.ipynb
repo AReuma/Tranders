{
 "cells": [
  {
   "cell_type": "code",
   "execution_count": 1,
   "id": "f5b6face",
   "metadata": {},
   "outputs": [],
   "source": [
    "# pip install kafka-python"
   ]
  },
  {
   "cell_type": "code",
   "execution_count": 2,
   "id": "ca9ff7a4",
   "metadata": {},
   "outputs": [],
   "source": [
    "from kafka import KafkaProducer\n",
    "from json import dumps\n",
    "\n",
    "\n",
    "producer = KafkaProducer(acks=0, compression_type='gzip', bootstrap_servers=['127.0.0.1:9092'],\n",
    "                         value_serializer=lambda x: dumps(x).encode('utf-8'))\n",
    "\n",
    "# data = {'message' :'result'}\n",
    "# producer.send('test3', value=data)\n",
    "# producer.flush()\n",
    "# print(\"전송\")"
   ]
  },
  {
   "cell_type": "code",
   "execution_count": null,
   "id": "18643091",
   "metadata": {},
   "outputs": [
    {
     "name": "stdout",
     "output_type": "stream",
     "text": [
      " * Serving Flask app \"__main__\" (lazy loading)\n",
      " * Environment: production\n",
      "\u001b[31m   WARNING: This is a development server. Do not use it in a production deployment.\u001b[0m\n",
      "\u001b[2m   Use a production WSGI server instead.\u001b[0m\n",
      " * Debug mode: off\n"
     ]
    },
    {
     "name": "stderr",
     "output_type": "stream",
     "text": [
      " * Running on http://127.0.0.1:5000/ (Press CTRL+C to quit)\n",
      "127.0.0.1 - - [09/Jul/2022 16:06:38] \"GET /kafka-data HTTP/1.1\" 200 -\n",
      "127.0.0.1 - - [09/Jul/2022 16:06:53] \"GET /kafka-data HTTP/1.1\" 200 -\n"
     ]
    }
   ],
   "source": [
    "from flask import Flask, url_for, request, jsonify\n",
    "from flask_cors import CORS, cross_origin\n",
    "from kafka import KafkaConsumer\n",
    "from json import loads\n",
    "import json\n",
    "\n",
    "\n",
    "\n",
    "def get_kafka_data():\n",
    "    consumer = KafkaConsumer(\n",
    "    'test4',\n",
    "     bootstrap_servers=['localhost:9092'],\n",
    "     auto_offset_reset='earliest',\n",
    "     enable_auto_commit=True,\n",
    "     group_id=None,\n",
    "     value_deserializer=lambda x: loads(x.decode('utf-8')),\n",
    "     consumer_timeout_ms=1000\n",
    ")\n",
    "    \n",
    "    result_list = []\n",
    "    for message in consumer:\n",
    "        data_dict = {}\n",
    "        data_dict['content'] = message.value\n",
    "        result_list.append(data_dict)\n",
    "    return result_list\n",
    "\n",
    "app = Flask(__name__)\n",
    "CORS(app, resources={r'/*': {'origins': '*'}})\n",
    "\n",
    "@app.route('/kafka-data',methods=['GET'])\n",
    "@cross_origin()\n",
    "def new_data():\n",
    "    data_list = get_kafka_data()\n",
    "    return jsonify(data_list)\n",
    "\n",
    "if __name__ == \"__main__\":\n",
    "    app.run()"
   ]
  }
 ],
 "metadata": {
  "kernelspec": {
   "display_name": "Python 3 (ipykernel)",
   "language": "python",
   "name": "python3"
  },
  "language_info": {
   "codemirror_mode": {
    "name": "ipython",
    "version": 3
   },
   "file_extension": ".py",
   "mimetype": "text/x-python",
   "name": "python",
   "nbconvert_exporter": "python",
   "pygments_lexer": "ipython3",
   "version": "3.9.12"
  }
 },
 "nbformat": 4,
 "nbformat_minor": 5
}
