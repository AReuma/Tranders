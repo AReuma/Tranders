{
 "cells": [
  {
   "cell_type": "code",
   "execution_count": 1,
   "id": "f5b6face",
   "metadata": {},
   "outputs": [],
   "source": [
    "# pip install kafka-python"
   ]
  },
  {
   "cell_type": "code",
   "execution_count": 2,
   "id": "4c15f893",
   "metadata": {},
   "outputs": [
    {
     "name": "stdout",
     "output_type": "stream",
     "text": [
      "메시지 등록\n"
     ]
    }
   ],
   "source": [
    "from kafka import KafkaProducer\n",
    "from json import dumps\n",
    "import time\n",
    "\n",
    "producer = KafkaProducer(acks=0, compression_type='gzip', bootstrap_servers=['localhost:9092'],\n",
    "                         value_serializer=lambda x: dumps(x).encode('utf-8'))\n",
    "\n",
    "\n",
    "data = 'hi'\n",
    "producer.send('test2', value=data)\n",
    "producer.flush()\n",
    "print(\"메시지 등록\")"
   ]
  },
  {
   "cell_type": "code",
   "execution_count": null,
   "id": "18643091",
   "metadata": {},
   "outputs": [
    {
     "name": "stdout",
     "output_type": "stream",
     "text": [
      " * Serving Flask app \"__main__\" (lazy loading)\n",
      " * Environment: production\n",
      "\u001b[31m   WARNING: This is a development server. Do not use it in a production deployment.\u001b[0m\n",
      "\u001b[2m   Use a production WSGI server instead.\u001b[0m\n",
      " * Debug mode: off\n"
     ]
    },
    {
     "name": "stderr",
     "output_type": "stream",
     "text": [
      " * Running on http://127.0.0.1:5000/ (Press CTRL+C to quit)\n",
      "127.0.0.1 - - [06/Jun/2022 22:26:03] \"GET /kafka-data HTTP/1.1\" 200 -\n",
      "127.0.0.1 - - [06/Jun/2022 22:26:03] \"GET /images/icons/gear.png HTTP/1.1\" 404 -\n",
      "127.0.0.1 - - [06/Jun/2022 22:26:06] \"GET /kafka-data HTTP/1.1\" 200 -\n",
      "127.0.0.1 - - [06/Jun/2022 22:26:06] \"GET /images/icons/gear.png HTTP/1.1\" 404 -\n",
      "127.0.0.1 - - [06/Jun/2022 22:33:14] \"GET /kafka_data HTTP/1.1\" 404 -\n",
      "127.0.0.1 - - [06/Jun/2022 22:33:21] \"GET /kafka_data HTTP/1.1\" 404 -\n",
      "127.0.0.1 - - [06/Jun/2022 22:33:53] \"GET /kafka_data HTTP/1.1\" 404 -\n",
      "127.0.0.1 - - [06/Jun/2022 22:34:09] \"GET /kafka_data HTTP/1.1\" 404 -\n",
      "127.0.0.1 - - [06/Jun/2022 22:34:09] \"GET /kafka_data HTTP/1.1\" 404 -\n",
      "127.0.0.1 - - [06/Jun/2022 22:34:12] \"GET /kafka_data HTTP/1.1\" 404 -\n",
      "127.0.0.1 - - [06/Jun/2022 22:36:10] \"GET /kafka_data HTTP/1.1\" 404 -\n",
      "127.0.0.1 - - [06/Jun/2022 22:36:12] \"GET /kafka_data HTTP/1.1\" 404 -\n",
      "127.0.0.1 - - [06/Jun/2022 22:36:31] \"GET /kafka-data HTTP/1.1\" 200 -\n",
      "127.0.0.1 - - [06/Jun/2022 22:36:34] \"GET /kafka-data HTTP/1.1\" 200 -\n"
     ]
    }
   ],
   "source": [
    "from flask import Flask, url_for, request, jsonify\n",
    "from flask_cors import CORS, cross_origin\n",
    "from kafka import KafkaConsumer\n",
    "from json import loads\n",
    "import json\n",
    "\n",
    "\n",
    "# topic, broker list\n",
    "consumer = KafkaConsumer(\n",
    "    'test2',\n",
    "     bootstrap_servers=['localhost:9092'],\n",
    "     auto_offset_reset='earliest',\n",
    "     enable_auto_commit=True,\n",
    "     group_id='my-group',\n",
    "     value_deserializer=lambda x: loads(x.decode('utf-8')),\n",
    "     consumer_timeout_ms=1000\n",
    ")\n",
    "\n",
    "# consumer list를 가져온다\n",
    "# print('[begin] get consumer list')\n",
    "# for message in consumer:\n",
    "#     print(message.value)\n",
    "# print('[end] get consumer list')\n",
    "\n",
    "\n",
    "app = Flask(__name__)\n",
    "CORS(app, resources={r'/*': {'origins': '*'}})\n",
    "\n",
    "\n",
    "@app.route('/python-request-multi', methods = ['GET'])\n",
    "def spring2python_multi():\n",
    "    data = {\"Success\": True}\n",
    "    \n",
    "    data[\"userId\"] = \"blabla\"\n",
    "    data[\"email\"] = \"blabla@gmail.com\"\n",
    "    \n",
    "    return jsonify(data)\n",
    "\n",
    "result_list = []\n",
    "data_dict = {}\n",
    "\n",
    "@app.route('/kafka-data',methods=['GET'])\n",
    "@cross_origin()\n",
    "def new_data():\n",
    "    for message in consumer:\n",
    "        content = message.value\n",
    "        data_dict['content'] = content\n",
    "        result_list.append(data_dict)\n",
    "    return jsonify(result_list)\n",
    "\n",
    "if __name__ == \"__main__\":\n",
    "    app.run()"
   ]
  },
  {
   "cell_type": "code",
   "execution_count": null,
   "id": "c4a4355c",
   "metadata": {},
   "outputs": [],
   "source": []
  }
 ],
 "metadata": {
  "kernelspec": {
   "display_name": "Python 3 (ipykernel)",
   "language": "python",
   "name": "python3"
  },
  "language_info": {
   "codemirror_mode": {
    "name": "ipython",
    "version": 3
   },
   "file_extension": ".py",
   "mimetype": "text/x-python",
   "name": "python",
   "nbconvert_exporter": "python",
   "pygments_lexer": "ipython3",
   "version": "3.9.12"
  }
 },
 "nbformat": 4,
 "nbformat_minor": 5
}
