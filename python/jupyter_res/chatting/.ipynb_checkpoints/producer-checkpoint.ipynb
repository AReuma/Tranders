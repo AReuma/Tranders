{
 "cells": [
  {
   "cell_type": "code",
   "execution_count": 1,
   "id": "7059504f",
   "metadata": {},
   "outputs": [
    {
     "name": "stdout",
     "output_type": "stream",
     "text": [
      "Collecting kafka-python\n",
      "  Downloading kafka_python-2.0.2-py2.py3-none-any.whl (246 kB)\n",
      "\u001b[K     |████████████████████████████████| 246 kB 6.4 MB/s eta 0:00:01\n",
      "\u001b[?25hInstalling collected packages: kafka-python\n",
      "Successfully installed kafka-python-2.0.2\n",
      "Note: you may need to restart the kernel to use updated packages.\n"
     ]
    }
   ],
   "source": [
    "# pip install kafka-python"
   ]
  },
  {
   "cell_type": "code",
   "execution_count": 11,
   "id": "31f675c1",
   "metadata": {},
   "outputs": [
    {
     "name": "stdout",
     "output_type": "stream",
     "text": [
      "elapsed : 1.218308687210083\n"
     ]
    }
   ],
   "source": [
    "from kafka import KafkaProducer\n",
    "from json import dumps\n",
    "import time\n",
    "\n",
    "producer = KafkaProducer(acks=0, compression_type='gzip', bootstrap_servers=['localhost:9092'],\n",
    "                         value_serializer=lambda x: dumps(x).encode('utf-8'))\n",
    "\n",
    "start = time.time()\n",
    "for i in range(10):\n",
    "    data = {'str' : 'result'+str(i)}\n",
    "    producer.send('test2', value=data)\n",
    "    producer.flush()\n",
    "print(\"elapsed :\", time.time() - start)"
   ]
  },
  {
   "cell_type": "code",
   "execution_count": 12,
   "id": "fdcd93b9",
   "metadata": {},
   "outputs": [
    {
     "name": "stdout",
     "output_type": "stream",
     "text": [
      "[begin] get consumer list\n",
      "{'str': 'result0'}\n",
      "{'str': 'result1'}\n",
      "{'str': 'result2'}\n",
      "{'str': 'result3'}\n",
      "{'str': 'result4'}\n",
      "{'str': 'result5'}\n",
      "{'str': 'result6'}\n",
      "{'str': 'result7'}\n",
      "{'str': 'result8'}\n",
      "{'str': 'result9'}\n",
      "[end] get consumer list\n"
     ]
    }
   ],
   "source": [
    "from kafka import KafkaConsumer\n",
    "from json import loads\n",
    "\n",
    "# topic, broker list\n",
    "consumer = KafkaConsumer(\n",
    "    'test2',\n",
    "     bootstrap_servers=['localhost:9092'],\n",
    "     auto_offset_reset='earliest',\n",
    "     enable_auto_commit=True,\n",
    "     group_id='my-group',\n",
    "     value_deserializer=lambda x: loads(x.decode('utf-8')),\n",
    "     consumer_timeout_ms=1000\n",
    ")\n",
    "\n",
    "# consumer list를 가져온다\n",
    "print('[begin] get consumer list')\n",
    "for message in consumer:\n",
    "    print(message.value)\n",
    "print('[end] get consumer list')"
   ]
  },
  {
   "cell_type": "code",
   "execution_count": null,
   "id": "f9841e08",
   "metadata": {},
   "outputs": [],
   "source": []
  }
 ],
 "metadata": {
  "kernelspec": {
   "display_name": "Python 3 (ipykernel)",
   "language": "python",
   "name": "python3"
  },
  "language_info": {
   "codemirror_mode": {
    "name": "ipython",
    "version": 3
   },
   "file_extension": ".py",
   "mimetype": "text/x-python",
   "name": "python",
   "nbconvert_exporter": "python",
   "pygments_lexer": "ipython3",
   "version": "3.9.12"
  }
 },
 "nbformat": 4,
 "nbformat_minor": 5
}
