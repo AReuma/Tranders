{
 "cells": [
  {
   "cell_type": "code",
   "execution_count": 1,
   "id": "7b05abc6",
   "metadata": {},
   "outputs": [],
   "source": [
    "#!pip install pymysql"
   ]
  },
  {
   "cell_type": "code",
   "execution_count": 6,
   "id": "878f1609",
   "metadata": {},
   "outputs": [],
   "source": [
    "import pymysql\n",
    "import pickle\n",
    "\n",
    "MYSQL_USER_DATA_SAVED_FILE = \"../mysql/userinfo\""
   ]
  },
  {
   "cell_type": "code",
   "execution_count": 7,
   "id": "3c30d24d",
   "metadata": {},
   "outputs": [],
   "source": [
    "mysql_user_info = dict({\n",
    "    'user_id': 'id',\n",
    "    'password': 'password'\n",
    "})\n",
    "\n",
    "f = open(MYSQL_USER_DATA_SAVED_FILE, 'wb')\n",
    "pickle.dump(mysql_user_info, f)\n",
    "f.close()"
   ]
  }
 ],
 "metadata": {
  "kernelspec": {
   "display_name": "Python 3 (ipykernel)",
   "language": "python",
   "name": "python3"
  },
  "language_info": {
   "codemirror_mode": {
    "name": "ipython",
    "version": 3
   },
   "file_extension": ".py",
   "mimetype": "text/x-python",
   "name": "python",
   "nbconvert_exporter": "python",
   "pygments_lexer": "ipython3",
   "version": "3.9.12"
  }
 },
 "nbformat": 4,
 "nbformat_minor": 5
}
