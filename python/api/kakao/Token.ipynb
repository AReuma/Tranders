{
 "cells": [
  {
   "cell_type": "code",
   "execution_count": 1,
   "id": "3e458024",
   "metadata": {},
   "outputs": [],
   "source": [
    "from flask import Flask, url_for, request, jsonify\n",
    "from flask_cors import CORS, cross_origin\n",
    "\n",
    "import json\n",
    "import requests"
   ]
  },
  {
   "cell_type": "code",
   "execution_count": 3,
   "id": "42c9c6d2",
   "metadata": {},
   "outputs": [],
   "source": [
    "#pip install -U flask-cors"
   ]
  },
  {
   "cell_type": "code",
   "execution_count": 5,
   "id": "51a15bf5",
   "metadata": {},
   "outputs": [
    {
     "name": "stdout",
     "output_type": "stream",
     "text": [
      "{'access_token': 'cuqscrvg6vUUixbzhxLRx6TxlOI7bAkXJZdloDW_CinI2gAAAYFtnlkV', 'token_type': 'bearer', 'refresh_token': 'GweII4_f5xl_oq5Qq80omlgEYyQpsqzFN_Fo4bUPCinI2gAAAYFtnlkT', 'expires_in': 21599, 'scope': 'account_email profile_image profile_nickname', 'refresh_token_expires_in': 5183999}\n"
     ]
    }
   ],
   "source": [
    "url = \"https://kauth.kakao.com/oauth/token\"\n",
    "\n",
    "data = {\n",
    "    \"grant_type\": \"authorization_code\",\n",
    "    \"client_id\": \"1f6ab7138670a91099012c0341d8fe60\",\n",
    "    \"redirect_uri\": \"http://localhost:8080/\",\n",
    "    \"code\": \"hE8vyoX4zvE_LMhEGbiz4CqB6NQNBfzSjPIxQHv-NaKZvd1XHTQxI5IODK14qA1mpwkAOAopb1UAAAGBbZ4rCQ\"\n",
    "}\n",
    "\n",
    "response = requests.post(url, data=data);\n",
    "\n",
    "if response.status_code != 200:\n",
    "    print('에러');\n",
    "else:\n",
    "    tokens = response.json();\n",
    "    print(tokens); "
   ]
  },
  {
   "cell_type": "code",
   "execution_count": 9,
   "id": "8b0f9560",
   "metadata": {},
   "outputs": [],
   "source": [
    "import json\n",
    "import datetime\n",
    "import os\n",
    "\n",
    "# Kakao Token 저장 파일\n",
    "KAKAO_TOKEN_SAVED_FILE = \"../../kakao/kakao_token.json\"\n",
    "\n",
    "# 저장\n",
    "def save_tokens(filename, tokens):\n",
    "    with open(filename, \"w\") as fp:\n",
    "        json.dump(tokens, fp)\n",
    "        \n",
    "# 읽기\n",
    "def load_tokens(filename):\n",
    "    with open(filename) as fp:\n",
    "        tokens = json.load(fp)\n",
    "        \n",
    "    return tokens\n",
    "\n",
    "# token 저장\n",
    "save_tokens(KAKAO_TOKEN_SAVED_FILE, tokens)"
   ]
  }
 ],
 "metadata": {
  "kernelspec": {
   "display_name": "Python 3 (ipykernel)",
   "language": "python",
   "name": "python3"
  },
  "language_info": {
   "codemirror_mode": {
    "name": "ipython",
    "version": 3
   },
   "file_extension": ".py",
   "mimetype": "text/x-python",
   "name": "python",
   "nbconvert_exporter": "python",
   "pygments_lexer": "ipython3",
   "version": "3.9.12"
  }
 },
 "nbformat": 4,
 "nbformat_minor": 5
}
